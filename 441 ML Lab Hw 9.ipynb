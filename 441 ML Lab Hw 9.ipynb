{
 "cells": [
  {
   "cell_type": "markdown",
   "metadata": {
    "id": "7ywSRtNI4s5h"
   },
   "source": [
    "# 0.) Import and Clean data"
   ]
  },
  {
   "cell_type": "code",
   "execution_count": 2,
   "metadata": {
    "id": "nsG1QV154GYZ"
   },
   "outputs": [],
   "source": [
    "import pandas as pd\n",
    "import matplotlib.pyplot as plt\n",
    "import numpy as np\n",
    "from sklearn.preprocessing import StandardScaler\n",
    "from sklearn.cluster import KMeans"
   ]
  },
  {
   "cell_type": "code",
   "execution_count": 3,
   "metadata": {
    "id": "Iku0T8Ou4Lcu"
   },
   "outputs": [],
   "source": [
    "df = pd.read_csv(\"/Users/bharatsingh/Downloads/Country-data.csv\", sep = \",\")"
   ]
  },
  {
   "cell_type": "code",
   "execution_count": 4,
   "metadata": {
    "id": "KJQfo8mz43Kz"
   },
   "outputs": [
    {
     "data": {
      "text/html": [
       "<div>\n",
       "<style scoped>\n",
       "    .dataframe tbody tr th:only-of-type {\n",
       "        vertical-align: middle;\n",
       "    }\n",
       "\n",
       "    .dataframe tbody tr th {\n",
       "        vertical-align: top;\n",
       "    }\n",
       "\n",
       "    .dataframe thead th {\n",
       "        text-align: right;\n",
       "    }\n",
       "</style>\n",
       "<table border=\"1\" class=\"dataframe\">\n",
       "  <thead>\n",
       "    <tr style=\"text-align: right;\">\n",
       "      <th></th>\n",
       "      <th>country</th>\n",
       "      <th>child_mort</th>\n",
       "      <th>exports</th>\n",
       "      <th>health</th>\n",
       "      <th>imports</th>\n",
       "      <th>income</th>\n",
       "      <th>inflation</th>\n",
       "      <th>life_expec</th>\n",
       "      <th>total_fer</th>\n",
       "      <th>gdpp</th>\n",
       "    </tr>\n",
       "  </thead>\n",
       "  <tbody>\n",
       "    <tr>\n",
       "      <th>0</th>\n",
       "      <td>Afghanistan</td>\n",
       "      <td>90.2</td>\n",
       "      <td>10.0</td>\n",
       "      <td>7.58</td>\n",
       "      <td>44.9</td>\n",
       "      <td>1610</td>\n",
       "      <td>9.44</td>\n",
       "      <td>56.2</td>\n",
       "      <td>5.82</td>\n",
       "      <td>553</td>\n",
       "    </tr>\n",
       "    <tr>\n",
       "      <th>1</th>\n",
       "      <td>Albania</td>\n",
       "      <td>16.6</td>\n",
       "      <td>28.0</td>\n",
       "      <td>6.55</td>\n",
       "      <td>48.6</td>\n",
       "      <td>9930</td>\n",
       "      <td>4.49</td>\n",
       "      <td>76.3</td>\n",
       "      <td>1.65</td>\n",
       "      <td>4090</td>\n",
       "    </tr>\n",
       "    <tr>\n",
       "      <th>2</th>\n",
       "      <td>Algeria</td>\n",
       "      <td>27.3</td>\n",
       "      <td>38.4</td>\n",
       "      <td>4.17</td>\n",
       "      <td>31.4</td>\n",
       "      <td>12900</td>\n",
       "      <td>16.10</td>\n",
       "      <td>76.5</td>\n",
       "      <td>2.89</td>\n",
       "      <td>4460</td>\n",
       "    </tr>\n",
       "    <tr>\n",
       "      <th>3</th>\n",
       "      <td>Angola</td>\n",
       "      <td>119.0</td>\n",
       "      <td>62.3</td>\n",
       "      <td>2.85</td>\n",
       "      <td>42.9</td>\n",
       "      <td>5900</td>\n",
       "      <td>22.40</td>\n",
       "      <td>60.1</td>\n",
       "      <td>6.16</td>\n",
       "      <td>3530</td>\n",
       "    </tr>\n",
       "    <tr>\n",
       "      <th>4</th>\n",
       "      <td>Antigua and Barbuda</td>\n",
       "      <td>10.3</td>\n",
       "      <td>45.5</td>\n",
       "      <td>6.03</td>\n",
       "      <td>58.9</td>\n",
       "      <td>19100</td>\n",
       "      <td>1.44</td>\n",
       "      <td>76.8</td>\n",
       "      <td>2.13</td>\n",
       "      <td>12200</td>\n",
       "    </tr>\n",
       "  </tbody>\n",
       "</table>\n",
       "</div>"
      ],
      "text/plain": [
       "               country  child_mort  exports  health  imports  income  \\\n",
       "0          Afghanistan        90.2     10.0    7.58     44.9    1610   \n",
       "1              Albania        16.6     28.0    6.55     48.6    9930   \n",
       "2              Algeria        27.3     38.4    4.17     31.4   12900   \n",
       "3               Angola       119.0     62.3    2.85     42.9    5900   \n",
       "4  Antigua and Barbuda        10.3     45.5    6.03     58.9   19100   \n",
       "\n",
       "   inflation  life_expec  total_fer   gdpp  \n",
       "0       9.44        56.2       5.82    553  \n",
       "1       4.49        76.3       1.65   4090  \n",
       "2      16.10        76.5       2.89   4460  \n",
       "3      22.40        60.1       6.16   3530  \n",
       "4       1.44        76.8       2.13  12200  "
      ]
     },
     "execution_count": 4,
     "metadata": {},
     "output_type": "execute_result"
    }
   ],
   "source": [
    "df.head()"
   ]
  },
  {
   "cell_type": "code",
   "execution_count": 5,
   "metadata": {
    "id": "mKWSRv-q98wE"
   },
   "outputs": [],
   "source": [
    "names=df[[\"country\"]].copy()\n",
    "X=df.drop(\"country\", axis=1)"
   ]
  },
  {
   "cell_type": "code",
   "execution_count": 6,
   "metadata": {
    "id": "Oj-k5XJNCNOr"
   },
   "outputs": [
    {
     "name": "stderr",
     "output_type": "stream",
     "text": [
      "/Users/bharatsingh/anaconda3/lib/python3.11/site-packages/sklearn/utils/validation.py:767: FutureWarning: is_sparse is deprecated and will be removed in a future version. Check `isinstance(dtype, pd.SparseDtype)` instead.\n",
      "  if not hasattr(array, \"sparse\") and array.dtypes.apply(is_sparse).any():\n",
      "/Users/bharatsingh/anaconda3/lib/python3.11/site-packages/sklearn/utils/validation.py:605: FutureWarning: is_sparse is deprecated and will be removed in a future version. Check `isinstance(dtype, pd.SparseDtype)` instead.\n",
      "  if is_sparse(pd_dtype):\n",
      "/Users/bharatsingh/anaconda3/lib/python3.11/site-packages/sklearn/utils/validation.py:614: FutureWarning: is_sparse is deprecated and will be removed in a future version. Check `isinstance(dtype, pd.SparseDtype)` instead.\n",
      "  if is_sparse(pd_dtype) or not is_extension_array_dtype(pd_dtype):\n",
      "/Users/bharatsingh/anaconda3/lib/python3.11/site-packages/sklearn/utils/validation.py:767: FutureWarning: is_sparse is deprecated and will be removed in a future version. Check `isinstance(dtype, pd.SparseDtype)` instead.\n",
      "  if not hasattr(array, \"sparse\") and array.dtypes.apply(is_sparse).any():\n",
      "/Users/bharatsingh/anaconda3/lib/python3.11/site-packages/sklearn/utils/validation.py:605: FutureWarning: is_sparse is deprecated and will be removed in a future version. Check `isinstance(dtype, pd.SparseDtype)` instead.\n",
      "  if is_sparse(pd_dtype):\n",
      "/Users/bharatsingh/anaconda3/lib/python3.11/site-packages/sklearn/utils/validation.py:614: FutureWarning: is_sparse is deprecated and will be removed in a future version. Check `isinstance(dtype, pd.SparseDtype)` instead.\n",
      "  if is_sparse(pd_dtype) or not is_extension_array_dtype(pd_dtype):\n"
     ]
    }
   ],
   "source": [
    "scaler=StandardScaler().fit(X)\n",
    "X_scaled=scaler.transform(X)"
   ]
  },
  {
   "cell_type": "markdown",
   "metadata": {
    "id": "YLn6XlFqMaCY"
   },
   "source": [
    "# 1.) Fit a kmeans Model with any Number of Clusters"
   ]
  },
  {
   "cell_type": "code",
   "execution_count": 7,
   "metadata": {
    "id": "ntDMWRN-8yAi"
   },
   "outputs": [],
   "source": [
    "KMeans?"
   ]
  },
  {
   "cell_type": "code",
   "execution_count": 8,
   "metadata": {
    "id": "bzwvr8PJMtrr"
   },
   "outputs": [
    {
     "name": "stderr",
     "output_type": "stream",
     "text": [
      "/Users/bharatsingh/anaconda3/lib/python3.11/site-packages/sklearn/cluster/_kmeans.py:870: FutureWarning: The default value of `n_init` will change from 10 to 'auto' in 1.4. Set the value of `n_init` explicitly to suppress the warning\n",
      "  warnings.warn(\n"
     ]
    }
   ],
   "source": [
    "kmeans=KMeans(n_clusters=5).fit(X_scaled)"
   ]
  },
  {
   "cell_type": "markdown",
   "metadata": {
    "id": "LkpVmNYRMtyq"
   },
   "source": [
    "# 2.) Pick two features to visualize across"
   ]
  },
  {
   "cell_type": "code",
   "execution_count": 9,
   "metadata": {
    "colab": {
     "base_uri": "https://localhost:8080/"
    },
    "id": "oTmfYVYrN53a",
    "outputId": "a5a09b29-e94a-4ea6-a0df-c7873220ab90"
   },
   "outputs": [
    {
     "data": {
      "text/plain": [
       "Index(['child_mort', 'exports', 'health', 'imports', 'income', 'inflation',\n",
       "       'life_expec', 'total_fer', 'gdpp'],\n",
       "      dtype='object')"
      ]
     },
     "execution_count": 9,
     "metadata": {},
     "output_type": "execute_result"
    }
   ],
   "source": [
    "X.columns"
   ]
  },
  {
   "cell_type": "code",
   "execution_count": 55,
   "metadata": {
    "id": "GksDZxUsDbzM"
   },
   "outputs": [
    {
     "data": {
      "image/png": "[encoded data removed]",
      "text/plain": [
       "<Figure size 640x480 with 1 Axes>"
      ]
     },
     "metadata": {},
     "output_type": "display_data"
    }
   ],
   "source": [
    "import matplotlib.pyplot as plt\n",
    "\n",
    "x1_index = 0\n",
    "x2_index = 2\n",
    "\n",
    "\n",
    "scatter = plt.scatter(X_scaled[:, x1_index], X_scaled[:, x2_index], c=kmeans.labels_, cmap='viridis', label='Clusters')\n",
    "\n",
    "\n",
    "centers = plt.scatter(kmeans.cluster_centers_[:, x1_index], kmeans.cluster_centers_[:, x2_index], marker='o', color='black', s=100, label='Centers')\n",
    "\n",
    "plt.xlabel(X.columns[x1_index])\n",
    "plt.ylabel(X.columns[x2_index])\n",
    "plt.title('Scatter Plot of Customers')\n",
    "\n",
    "# Generate legend\n",
    "plt.legend()\n",
    "\n",
    "plt.grid()\n",
    "plt.show()"
   ]
  },
  {
   "cell_type": "markdown",
   "metadata": {
    "id": "827DR0zsOkNA"
   },
   "source": [
    "# 3.) Check a range of k-clusters and visualize to find the elbow. Test 30 different random starting places for the centroid means\n"
   ]
  },
  {
   "cell_type": "code",
   "execution_count": 56,
   "metadata": {
    "id": "L66GonbU5NAg"
   },
   "outputs": [],
   "source": [
    "WCSSs=[]\n",
    "Ks=range(1,15)\n",
    "for k in Ks:\n",
    "    kmeans=KMeans(n_clusters=k, n_init=30).fit(X_scaled)\n",
    "    WCSSs.append(kmeans.inertia_)"
   ]
  },
  {
   "cell_type": "markdown",
   "metadata": {
    "id": "aNEDRA7XPkMN"
   },
   "source": [
    "# 4.) Use the above work and economic critical thinking to choose a number of clusters. Explain why you chose the number of clusters and fit a model accordingly."
   ]
  },
  {
   "cell_type": "code",
   "execution_count": 28,
   "metadata": {
    "id": "Vfz1eA5ZP4wE"
   },
   "outputs": [
    {
     "data": {
      "image/png": "[encoded data removed]",
      "text/plain": [
       "<Figure size 640x480 with 1 Axes>"
      ]
     },
     "metadata": {},
     "output_type": "display_data"
    }
   ],
   "source": [
    "plt.plot(Ks, WCSSs)\n",
    "plt.xlabel(\"# of clusters\")\n",
    "plt.ylabel(\"WCSS\")\n",
    "plt.show()"
   ]
  },
  {
   "cell_type": "markdown",
   "metadata": {},
   "source": [
    "**By looking at the above graph, I would choose 8 as the optimal number of clusters for KMeans Algorithm. 8 is the elbow point of this graph, from where the decrease in WCSS with increase in # of clusters is linear. If we increase the clusters more, it will lead to overfitting.**"
   ]
  },
  {
   "cell_type": "markdown",
   "metadata": {
    "id": "FNgPPYCGsE4X"
   },
   "source": [
    "# 6.) Do the same for a silhoutte plot"
   ]
  },
  {
   "cell_type": "code",
   "execution_count": 36,
   "metadata": {
    "id": "I8YXoj7SsM8S"
   },
   "outputs": [],
   "source": [
    "from sklearn.metrics import silhouette_score"
   ]
  },
  {
   "cell_type": "code",
   "execution_count": 32,
   "metadata": {
    "id": "74EiOYI8sDv7"
   },
   "outputs": [],
   "source": [
    "?silhouette_score"
   ]
  },
  {
   "cell_type": "code",
   "execution_count": 41,
   "metadata": {},
   "outputs": [],
   "source": [
    "SSs=[]\n",
    "Ks=range(2,15)\n",
    "for k in Ks:\n",
    "    kmeans=KMeans(n_clusters=k, n_init=30).fit(X_scaled)\n",
    "    sil=silhouette_score(X_scaled,kmeans.labels_)\n",
    "    SSs.append(sil)"
   ]
  },
  {
   "cell_type": "code",
   "execution_count": 38,
   "metadata": {},
   "outputs": [
    {
     "data": {
      "text/plain": [
       "array([ 1, 12,  2,  7,  4,  2, 12,  5,  3,  2, 12,  4, 13, 12,  4,  3, 10,\n",
       "        1, 10, 13, 12, 10, 12,  0,  4,  1,  1, 10,  1,  5, 10,  1,  1, 12,\n",
       "       12, 12,  1,  1,  7, 12,  1, 12,  4,  4,  3, 12, 12, 13, 12,  7, 13,\n",
       "        4, 10,  5,  5,  7,  1, 12,  5,  7,  5, 12, 12,  1,  1, 10, 11,  4,\n",
       "        5, 13, 13,  2,  7,  3,  5,  5, 12,  5, 10,  2, 13,  9,  0, 10, 13,\n",
       "        4,  4,  9,  9,  2,  4,  8,  4, 13,  1,  4,  4,  1,  8,  7,  4,  9,\n",
       "        4,  2,  4, 12,  1, 13, 10, 13,  3,  5,  1,  6,  3,  2, 13,  4, 10,\n",
       "       12, 13, 12,  5,  0, 12,  2,  1, 10,  2,  1, 12,  4,  1,  8,  4,  4,\n",
       "       10, 10,  4,  5,  2, 10,  7, 12,  5,  3, 10,  1,  4,  1,  1, 10,  4,\n",
       "       12, 10,  1, 12,  0,  5,  5, 12, 13, 10,  2,  4,  7,  1],\n",
       "      dtype=int32)"
      ]
     },
     "execution_count": 38,
     "metadata": {},
     "output_type": "execute_result"
    }
   ],
   "source": [
    "kmeans.labels_"
   ]
  },
  {
   "cell_type": "code",
   "execution_count": 42,
   "metadata": {},
   "outputs": [
    {
     "data": {
      "image/png": "[encoded data removed]",
      "text/plain": [
       "<Figure size 640x480 with 1 Axes>"
      ]
     },
     "metadata": {},
     "output_type": "display_data"
    }
   ],
   "source": [
    "plt.plot(Ks,SSs)\n",
    "plt.xlabel(\"# of clusters\")\n",
    "plt.ylabel(\"SS\")\n",
    "plt.show()"
   ]
  },
  {
   "cell_type": "markdown",
   "metadata": {
    "id": "Z6xfLRZIRfdl"
   },
   "source": [
    "# 7.) Create a list of the countries that are in each cluster. Write interesting things you notice."
   ]
  },
  {
   "cell_type": "code",
   "execution_count": 87,
   "metadata": {
    "id": "fGuVFuzxStqP"
   },
   "outputs": [],
   "source": [
    "kmeans=KMeans(n_clusters=8, n_init=30).fit(X_scaled)"
   ]
  },
  {
   "cell_type": "code",
   "execution_count": 88,
   "metadata": {
    "id": "qFlTV1xWp-gO"
   },
   "outputs": [],
   "source": [
    "preds=pd.DataFrame(kmeans.labels_)"
   ]
  },
  {
   "cell_type": "code",
   "execution_count": 89,
   "metadata": {
    "id": "w1k1V7SxtMzr"
   },
   "outputs": [],
   "source": [
    "output=pd.concat([preds,df], axis=1)"
   ]
  },
  {
   "cell_type": "code",
   "execution_count": 90,
   "metadata": {
    "id": "00UPyBcb7iev"
   },
   "outputs": [
    {
     "name": "stdout",
     "output_type": "stream",
     "text": [
      "Cluster 1: \n"
     ]
    },
    {
     "data": {
      "text/plain": [
       "['Australia',\n",
       " 'Austria',\n",
       " 'Belgium',\n",
       " 'Canada',\n",
       " 'Denmark',\n",
       " 'Finland',\n",
       " 'France',\n",
       " 'Germany',\n",
       " 'Greece',\n",
       " 'Iceland',\n",
       " 'Ireland',\n",
       " 'Israel',\n",
       " 'Italy',\n",
       " 'Japan',\n",
       " 'Netherlands',\n",
       " 'New Zealand',\n",
       " 'Norway',\n",
       " 'Portugal',\n",
       " 'Spain',\n",
       " 'Sweden',\n",
       " 'Switzerland',\n",
       " 'United Kingdom',\n",
       " 'United States']"
      ]
     },
     "execution_count": 90,
     "metadata": {},
     "output_type": "execute_result"
    }
   ],
   "source": [
    "print(\"Cluster 1: \")\n",
    "list(output.loc[output[0]==0, \"country\"])"
   ]
  },
  {
   "cell_type": "code",
   "execution_count": 91,
   "metadata": {
    "id": "OjPdGujLp-iz"
   },
   "outputs": [
    {
     "name": "stdout",
     "output_type": "stream",
     "text": [
      "Cluster 2: \n"
     ]
    },
    {
     "data": {
      "text/plain": [
       "['Albania',\n",
       " 'Algeria',\n",
       " 'Argentina',\n",
       " 'Armenia',\n",
       " 'Azerbaijan',\n",
       " 'Bangladesh',\n",
       " 'Bolivia',\n",
       " 'Brazil',\n",
       " 'Cape Verde',\n",
       " 'Chile',\n",
       " 'China',\n",
       " 'Colombia',\n",
       " 'Dominican Republic',\n",
       " 'Ecuador',\n",
       " 'Egypt',\n",
       " 'El Salvador',\n",
       " 'Grenada',\n",
       " 'Guatemala',\n",
       " 'India',\n",
       " 'Indonesia',\n",
       " 'Iran',\n",
       " 'Iraq',\n",
       " 'Jamaica',\n",
       " 'Kazakhstan',\n",
       " 'Libya',\n",
       " 'Mongolia',\n",
       " 'Morocco',\n",
       " 'Myanmar',\n",
       " 'Nepal',\n",
       " 'Peru',\n",
       " 'Philippines',\n",
       " 'Romania',\n",
       " 'Russia',\n",
       " 'Samoa',\n",
       " 'Sri Lanka',\n",
       " 'St. Vincent and the Grenadines',\n",
       " 'Suriname',\n",
       " 'Tajikistan',\n",
       " 'Tonga',\n",
       " 'Turkey',\n",
       " 'Turkmenistan',\n",
       " 'Uruguay',\n",
       " 'Uzbekistan',\n",
       " 'Vanuatu',\n",
       " 'Venezuela']"
      ]
     },
     "execution_count": 91,
     "metadata": {},
     "output_type": "execute_result"
    }
   ],
   "source": [
    "print(\"Cluster 2: \")\n",
    "list(output.loc[output[0]==1, \"country\"])"
   ]
  },
  {
   "cell_type": "code",
   "execution_count": 92,
   "metadata": {},
   "outputs": [
    {
     "name": "stdout",
     "output_type": "stream",
     "text": [
      "Cluster 3: \n"
     ]
    },
    {
     "data": {
      "text/plain": [
       "['Botswana',\n",
       " 'Burundi',\n",
       " 'Guinea-Bissau',\n",
       " 'Haiti',\n",
       " 'Kiribati',\n",
       " 'Lesotho',\n",
       " 'Liberia',\n",
       " 'Micronesia, Fed. Sts.',\n",
       " 'Namibia',\n",
       " 'Rwanda',\n",
       " 'Sierra Leone',\n",
       " 'Solomon Islands',\n",
       " 'South Africa',\n",
       " 'Togo']"
      ]
     },
     "execution_count": 92,
     "metadata": {},
     "output_type": "execute_result"
    }
   ],
   "source": [
    "print(\"Cluster 3: \")\n",
    "list(output.loc[output[0]==2, \"country\"])"
   ]
  },
  {
   "cell_type": "code",
   "execution_count": 93,
   "metadata": {},
   "outputs": [
    {
     "name": "stdout",
     "output_type": "stream",
     "text": [
      "Cluster 4: \n"
     ]
    },
    {
     "data": {
      "text/plain": [
       "['Antigua and Barbuda',\n",
       " 'Bahamas',\n",
       " 'Bahrain',\n",
       " 'Barbados',\n",
       " 'Belarus',\n",
       " 'Belize',\n",
       " 'Bhutan',\n",
       " 'Bosnia and Herzegovina',\n",
       " 'Bulgaria',\n",
       " 'Cambodia',\n",
       " 'Costa Rica',\n",
       " 'Croatia',\n",
       " 'Cyprus',\n",
       " 'Czech Republic',\n",
       " 'Estonia',\n",
       " 'Fiji',\n",
       " 'Georgia',\n",
       " 'Guyana',\n",
       " 'Hungary',\n",
       " 'Jordan',\n",
       " 'Kyrgyz Republic',\n",
       " 'Latvia',\n",
       " 'Lebanon',\n",
       " 'Lithuania',\n",
       " 'Macedonia, FYR',\n",
       " 'Malaysia',\n",
       " 'Maldives',\n",
       " 'Mauritius',\n",
       " 'Moldova',\n",
       " 'Montenegro',\n",
       " 'Panama',\n",
       " 'Paraguay',\n",
       " 'Poland',\n",
       " 'Serbia',\n",
       " 'Seychelles',\n",
       " 'Slovak Republic',\n",
       " 'Slovenia',\n",
       " 'South Korea',\n",
       " 'Thailand',\n",
       " 'Tunisia',\n",
       " 'Ukraine',\n",
       " 'Vietnam']"
      ]
     },
     "execution_count": 93,
     "metadata": {},
     "output_type": "execute_result"
    }
   ],
   "source": [
    "print(\"Cluster 4: \")\n",
    "list(output.loc[output[0]==3, \"country\"])"
   ]
  },
  {
   "cell_type": "code",
   "execution_count": 94,
   "metadata": {},
   "outputs": [
    {
     "name": "stdout",
     "output_type": "stream",
     "text": [
      "Cluster 5: \n"
     ]
    },
    {
     "data": {
      "text/plain": [
       "['Afghanistan',\n",
       " 'Angola',\n",
       " 'Benin',\n",
       " 'Burkina Faso',\n",
       " 'Cameroon',\n",
       " 'Central African Republic',\n",
       " 'Chad',\n",
       " 'Comoros',\n",
       " 'Congo, Dem. Rep.',\n",
       " 'Congo, Rep.',\n",
       " \"Cote d'Ivoire\",\n",
       " 'Equatorial Guinea',\n",
       " 'Eritrea',\n",
       " 'Gabon',\n",
       " 'Gambia',\n",
       " 'Ghana',\n",
       " 'Guinea',\n",
       " 'Kenya',\n",
       " 'Lao',\n",
       " 'Madagascar',\n",
       " 'Malawi',\n",
       " 'Mali',\n",
       " 'Mauritania',\n",
       " 'Mozambique',\n",
       " 'Niger',\n",
       " 'Pakistan',\n",
       " 'Senegal',\n",
       " 'Sudan',\n",
       " 'Tanzania',\n",
       " 'Timor-Leste',\n",
       " 'Uganda',\n",
       " 'Yemen',\n",
       " 'Zambia']"
      ]
     },
     "execution_count": 94,
     "metadata": {},
     "output_type": "execute_result"
    }
   ],
   "source": [
    "print(\"Cluster 5: \")\n",
    "list(output.loc[output[0]==4, \"country\"])"
   ]
  },
  {
   "cell_type": "code",
   "execution_count": 95,
   "metadata": {},
   "outputs": [
    {
     "name": "stdout",
     "output_type": "stream",
     "text": [
      "Cluster 6: \n"
     ]
    },
    {
     "data": {
      "text/plain": [
       "['Nigeria']"
      ]
     },
     "execution_count": 95,
     "metadata": {},
     "output_type": "execute_result"
    }
   ],
   "source": [
    "print(\"Cluster 6: \")\n",
    "list(output.loc[output[0]==5, \"country\"])"
   ]
  },
  {
   "cell_type": "code",
   "execution_count": 96,
   "metadata": {},
   "outputs": [
    {
     "name": "stdout",
     "output_type": "stream",
     "text": [
      "Cluster 7: \n"
     ]
    },
    {
     "data": {
      "text/plain": [
       "['Brunei', 'Kuwait', 'Oman', 'Qatar', 'Saudi Arabia', 'United Arab Emirates']"
      ]
     },
     "execution_count": 96,
     "metadata": {},
     "output_type": "execute_result"
    }
   ],
   "source": [
    "print(\"Cluster 7: \")\n",
    "list(output.loc[output[0]==6, \"country\"])"
   ]
  },
  {
   "cell_type": "code",
   "execution_count": 97,
   "metadata": {},
   "outputs": [
    {
     "name": "stdout",
     "output_type": "stream",
     "text": [
      "Cluster 8: \n"
     ]
    },
    {
     "data": {
      "text/plain": [
       "['Luxembourg', 'Malta', 'Singapore']"
      ]
     },
     "execution_count": 97,
     "metadata": {},
     "output_type": "execute_result"
    }
   ],
   "source": [
    "print(\"Cluster 8: \")\n",
    "list(output.loc[output[0]==7, \"country\"])"
   ]
  },
  {
   "cell_type": "markdown",
   "metadata": {
    "id": "LTutrUGlqqha"
   },
   "source": [
    "The clustering based on developed and non-developed economies reveals some expected groupings, but also some surprises.\n",
    "\n",
    "Firstly, it's unsurprising to see countries traditionally classified as highly developed, such as those in Cluster 8 (e.g., Australia, United States, United Kingdom), forming a distinct cluster. These nations share commonalities in terms of high levels of GDP per capita, advanced infrastructure, and robust healthcare and education systems.\n",
    "\n",
    "Conversely, Cluster 5 includes countries typically categorized as less developed or developing, such as Afghanistan, Angola, and Burkina Faso. These nations often face challenges like high poverty rates, limited access to healthcare and education, and lower levels of economic development.\n",
    "\n",
    "There are some unexpected groupings as well. For instance, Nigeria, an oil-rich nation with significant economic potential, appears in Cluster 7, which contains only one country. This grouping suggests that despite its considerable resources, Nigeria may face developmental challenges that align it more closely with less developed economies.\n",
    "\n",
    "It's intriguing to note that some clusters contain only a few countries, such as Cluster 4 (Luxembourg, Malta, Singapore) and Cluster 6 (Brunei, Kuwait, Oman, Qatar, United Arab Emirates). These countries are characterized by small populations, high GDP per capita, and significant reliance on specific industries (e.g., finance, oil), which distinguish them from larger economies.\n",
    "\n",
    "Overall, while many of the clustering results align with conventional notions of developed and non-developed economies, there are notable exceptions and nuances that provide insight into the complexities of global economic development.\n"
   ]
  },
  {
   "cell_type": "markdown",
   "metadata": {
    "id": "nEmf0AxkTJc1"
   },
   "source": [
    "# 8.) Create a table of Descriptive Statistics. Rows being the Cluster number and columns being all the features. Values being the mean of the centroid. Use the nonscaled X values for interprotation"
   ]
  },
  {
   "cell_type": "code",
   "execution_count": 74,
   "metadata": {
    "id": "ELmUB7bMTIJL"
   },
   "outputs": [
    {
     "data": {
      "text/html": [
       "<div>\n",
       "<style scoped>\n",
       "    .dataframe tbody tr th:only-of-type {\n",
       "        vertical-align: middle;\n",
       "    }\n",
       "\n",
       "    .dataframe tbody tr th {\n",
       "        vertical-align: top;\n",
       "    }\n",
       "\n",
       "    .dataframe thead th {\n",
       "        text-align: right;\n",
       "    }\n",
       "</style>\n",
       "<table border=\"1\" class=\"dataframe\">\n",
       "  <thead>\n",
       "    <tr style=\"text-align: right;\">\n",
       "      <th></th>\n",
       "      <th>child_mort</th>\n",
       "      <th>exports</th>\n",
       "      <th>health</th>\n",
       "      <th>imports</th>\n",
       "      <th>income</th>\n",
       "      <th>inflation</th>\n",
       "      <th>life_expec</th>\n",
       "      <th>total_fer</th>\n",
       "      <th>gdpp</th>\n",
       "    </tr>\n",
       "    <tr>\n",
       "      <th>0</th>\n",
       "      <th></th>\n",
       "      <th></th>\n",
       "      <th></th>\n",
       "      <th></th>\n",
       "      <th></th>\n",
       "      <th></th>\n",
       "      <th></th>\n",
       "      <th></th>\n",
       "      <th></th>\n",
       "    </tr>\n",
       "  </thead>\n",
       "  <tbody>\n",
       "    <tr>\n",
       "      <th>0</th>\n",
       "      <td>86.535714</td>\n",
       "      <td>26.622857</td>\n",
       "      <td>9.945000</td>\n",
       "      <td>59.714286</td>\n",
       "      <td>3651.714286</td>\n",
       "      <td>5.877857</td>\n",
       "      <td>56.342857</td>\n",
       "      <td>4.153571</td>\n",
       "      <td>2060.500000</td>\n",
       "    </tr>\n",
       "    <tr>\n",
       "      <th>1</th>\n",
       "      <td>27.246667</td>\n",
       "      <td>30.244200</td>\n",
       "      <td>5.418667</td>\n",
       "      <td>34.261464</td>\n",
       "      <td>11424.222222</td>\n",
       "      <td>10.522244</td>\n",
       "      <td>72.126667</td>\n",
       "      <td>2.561111</td>\n",
       "      <td>5653.911111</td>\n",
       "    </tr>\n",
       "    <tr>\n",
       "      <th>2</th>\n",
       "      <td>14.018605</td>\n",
       "      <td>53.397674</td>\n",
       "      <td>7.066977</td>\n",
       "      <td>61.276744</td>\n",
       "      <td>15568.837209</td>\n",
       "      <td>3.861465</td>\n",
       "      <td>74.493023</td>\n",
       "      <td>1.903721</td>\n",
       "      <td>9415.953488</td>\n",
       "    </tr>\n",
       "    <tr>\n",
       "      <th>3</th>\n",
       "      <td>4.133333</td>\n",
       "      <td>176.000000</td>\n",
       "      <td>6.793333</td>\n",
       "      <td>156.666667</td>\n",
       "      <td>64033.333333</td>\n",
       "      <td>2.468000</td>\n",
       "      <td>81.433333</td>\n",
       "      <td>1.380000</td>\n",
       "      <td>57566.666667</td>\n",
       "    </tr>\n",
       "    <tr>\n",
       "      <th>4</th>\n",
       "      <td>92.693939</td>\n",
       "      <td>30.469394</td>\n",
       "      <td>5.160606</td>\n",
       "      <td>38.300000</td>\n",
       "      <td>3679.969697</td>\n",
       "      <td>11.292273</td>\n",
       "      <td>60.375758</td>\n",
       "      <td>5.288788</td>\n",
       "      <td>1782.575758</td>\n",
       "    </tr>\n",
       "    <tr>\n",
       "      <th>5</th>\n",
       "      <td>10.120000</td>\n",
       "      <td>67.960000</td>\n",
       "      <td>2.742000</td>\n",
       "      <td>37.400000</td>\n",
       "      <td>76740.000000</td>\n",
       "      <td>12.596000</td>\n",
       "      <td>77.480000</td>\n",
       "      <td>2.178000</td>\n",
       "      <td>39680.000000</td>\n",
       "    </tr>\n",
       "    <tr>\n",
       "      <th>6</th>\n",
       "      <td>130.000000</td>\n",
       "      <td>25.300000</td>\n",
       "      <td>5.070000</td>\n",
       "      <td>17.400000</td>\n",
       "      <td>5150.000000</td>\n",
       "      <td>104.000000</td>\n",
       "      <td>60.500000</td>\n",
       "      <td>5.840000</td>\n",
       "      <td>2330.000000</td>\n",
       "    </tr>\n",
       "    <tr>\n",
       "      <th>7</th>\n",
       "      <td>4.295652</td>\n",
       "      <td>40.730435</td>\n",
       "      <td>10.513478</td>\n",
       "      <td>38.247826</td>\n",
       "      <td>40265.217391</td>\n",
       "      <td>1.334913</td>\n",
       "      <td>80.891304</td>\n",
       "      <td>1.810870</td>\n",
       "      <td>45417.391304</td>\n",
       "    </tr>\n",
       "  </tbody>\n",
       "</table>\n",
       "</div>"
      ],
      "text/plain": [
       "   child_mort     exports     health     imports        income   inflation  \\\n",
       "0                                                                            \n",
       "0   86.535714   26.622857   9.945000   59.714286   3651.714286    5.877857   \n",
       "1   27.246667   30.244200   5.418667   34.261464  11424.222222   10.522244   \n",
       "2   14.018605   53.397674   7.066977   61.276744  15568.837209    3.861465   \n",
       "3    4.133333  176.000000   6.793333  156.666667  64033.333333    2.468000   \n",
       "4   92.693939   30.469394   5.160606   38.300000   3679.969697   11.292273   \n",
       "5   10.120000   67.960000   2.742000   37.400000  76740.000000   12.596000   \n",
       "6  130.000000   25.300000   5.070000   17.400000   5150.000000  104.000000   \n",
       "7    4.295652   40.730435  10.513478   38.247826  40265.217391    1.334913   \n",
       "\n",
       "   life_expec  total_fer          gdpp  \n",
       "0                                       \n",
       "0   56.342857   4.153571   2060.500000  \n",
       "1   72.126667   2.561111   5653.911111  \n",
       "2   74.493023   1.903721   9415.953488  \n",
       "3   81.433333   1.380000  57566.666667  \n",
       "4   60.375758   5.288788   1782.575758  \n",
       "5   77.480000   2.178000  39680.000000  \n",
       "6   60.500000   5.840000   2330.000000  \n",
       "7   80.891304   1.810870  45417.391304  "
      ]
     },
     "execution_count": 74,
     "metadata": {},
     "output_type": "execute_result"
    }
   ],
   "source": [
    "output.drop(\"country\",axis=1).groupby(0).mean()"
   ]
  },
  {
   "cell_type": "code",
   "execution_count": 98,
   "metadata": {
    "id": "HpjZMgC4Smz9"
   },
   "outputs": [
    {
     "data": {
      "text/html": [
       "<div>\n",
       "<style scoped>\n",
       "    .dataframe tbody tr th:only-of-type {\n",
       "        vertical-align: middle;\n",
       "    }\n",
       "\n",
       "    .dataframe tbody tr th {\n",
       "        vertical-align: top;\n",
       "    }\n",
       "\n",
       "    .dataframe thead th {\n",
       "        text-align: right;\n",
       "    }\n",
       "</style>\n",
       "<table border=\"1\" class=\"dataframe\">\n",
       "  <thead>\n",
       "    <tr style=\"text-align: right;\">\n",
       "      <th></th>\n",
       "      <th>child_mort</th>\n",
       "      <th>exports</th>\n",
       "      <th>health</th>\n",
       "      <th>imports</th>\n",
       "      <th>income</th>\n",
       "      <th>inflation</th>\n",
       "      <th>life_expec</th>\n",
       "      <th>total_fer</th>\n",
       "      <th>gdpp</th>\n",
       "    </tr>\n",
       "    <tr>\n",
       "      <th>0</th>\n",
       "      <th></th>\n",
       "      <th></th>\n",
       "      <th></th>\n",
       "      <th></th>\n",
       "      <th></th>\n",
       "      <th></th>\n",
       "      <th></th>\n",
       "      <th></th>\n",
       "      <th></th>\n",
       "    </tr>\n",
       "  </thead>\n",
       "  <tbody>\n",
       "    <tr>\n",
       "      <th>0</th>\n",
       "      <td>1.065781</td>\n",
       "      <td>21.890833</td>\n",
       "      <td>1.967852</td>\n",
       "      <td>17.635936</td>\n",
       "      <td>8252.636421</td>\n",
       "      <td>2.001797</td>\n",
       "      <td>0.993576</td>\n",
       "      <td>0.380382</td>\n",
       "      <td>14413.114362</td>\n",
       "    </tr>\n",
       "    <tr>\n",
       "      <th>1</th>\n",
       "      <td>14.318329</td>\n",
       "      <td>14.335490</td>\n",
       "      <td>1.667824</td>\n",
       "      <td>14.338308</td>\n",
       "      <td>6154.058676</td>\n",
       "      <td>9.097471</td>\n",
       "      <td>3.739385</td>\n",
       "      <td>0.689916</td>\n",
       "      <td>3614.530095</td>\n",
       "    </tr>\n",
       "    <tr>\n",
       "      <th>2</th>\n",
       "      <td>48.827335</td>\n",
       "      <td>14.506325</td>\n",
       "      <td>2.319860</td>\n",
       "      <td>24.487543</td>\n",
       "      <td>4285.785583</td>\n",
       "      <td>4.411536</td>\n",
       "      <td>8.421375</td>\n",
       "      <td>1.041209</td>\n",
       "      <td>2415.694095</td>\n",
       "    </tr>\n",
       "    <tr>\n",
       "      <th>3</th>\n",
       "      <td>10.124762</td>\n",
       "      <td>16.082190</td>\n",
       "      <td>1.930544</td>\n",
       "      <td>13.857859</td>\n",
       "      <td>8856.605496</td>\n",
       "      <td>4.230473</td>\n",
       "      <td>3.758194</td>\n",
       "      <td>0.576281</td>\n",
       "      <td>7493.040504</td>\n",
       "    </tr>\n",
       "    <tr>\n",
       "      <th>4</th>\n",
       "      <td>26.317187</td>\n",
       "      <td>19.848412</td>\n",
       "      <td>1.668068</td>\n",
       "      <td>11.482949</td>\n",
       "      <td>5991.704174</td>\n",
       "      <td>7.665832</td>\n",
       "      <td>5.021891</td>\n",
       "      <td>0.884999</td>\n",
       "      <td>3160.634282</td>\n",
       "    </tr>\n",
       "    <tr>\n",
       "      <th>5</th>\n",
       "      <td>NaN</td>\n",
       "      <td>NaN</td>\n",
       "      <td>NaN</td>\n",
       "      <td>NaN</td>\n",
       "      <td>NaN</td>\n",
       "      <td>NaN</td>\n",
       "      <td>NaN</td>\n",
       "      <td>NaN</td>\n",
       "      <td>NaN</td>\n",
       "    </tr>\n",
       "    <tr>\n",
       "      <th>6</th>\n",
       "      <td>2.554016</td>\n",
       "      <td>9.108458</td>\n",
       "      <td>0.863852</td>\n",
       "      <td>14.417582</td>\n",
       "      <td>30065.290065</td>\n",
       "      <td>3.925005</td>\n",
       "      <td>1.570244</td>\n",
       "      <td>0.500536</td>\n",
       "      <td>18662.949035</td>\n",
       "    </tr>\n",
       "    <tr>\n",
       "      <th>7</th>\n",
       "      <td>2.309401</td>\n",
       "      <td>23.515952</td>\n",
       "      <td>2.492877</td>\n",
       "      <td>16.165808</td>\n",
       "      <td>32460.642836</td>\n",
       "      <td>2.179718</td>\n",
       "      <td>1.205543</td>\n",
       "      <td>0.240624</td>\n",
       "      <td>43011.665084</td>\n",
       "    </tr>\n",
       "  </tbody>\n",
       "</table>\n",
       "</div>"
      ],
      "text/plain": [
       "   child_mort    exports    health    imports        income  inflation  \\\n",
       "0                                                                        \n",
       "0    1.065781  21.890833  1.967852  17.635936   8252.636421   2.001797   \n",
       "1   14.318329  14.335490  1.667824  14.338308   6154.058676   9.097471   \n",
       "2   48.827335  14.506325  2.319860  24.487543   4285.785583   4.411536   \n",
       "3   10.124762  16.082190  1.930544  13.857859   8856.605496   4.230473   \n",
       "4   26.317187  19.848412  1.668068  11.482949   5991.704174   7.665832   \n",
       "5         NaN        NaN       NaN        NaN           NaN        NaN   \n",
       "6    2.554016   9.108458  0.863852  14.417582  30065.290065   3.925005   \n",
       "7    2.309401  23.515952  2.492877  16.165808  32460.642836   2.179718   \n",
       "\n",
       "   life_expec  total_fer          gdpp  \n",
       "0                                       \n",
       "0    0.993576   0.380382  14413.114362  \n",
       "1    3.739385   0.689916   3614.530095  \n",
       "2    8.421375   1.041209   2415.694095  \n",
       "3    3.758194   0.576281   7493.040504  \n",
       "4    5.021891   0.884999   3160.634282  \n",
       "5         NaN        NaN           NaN  \n",
       "6    1.570244   0.500536  18662.949035  \n",
       "7    1.205543   0.240624  43011.665084  "
      ]
     },
     "execution_count": 98,
     "metadata": {},
     "output_type": "execute_result"
    }
   ],
   "source": [
    "output.drop(\"country\",axis=1).groupby(0).std()"
   ]
  },
  {
   "cell_type": "markdown",
   "metadata": {
    "id": "x_rQZjMrUKY8"
   },
   "source": [
    "# 9.) Write an observation about the descriptive statistics."
   ]
  },
  {
   "cell_type": "markdown",
   "metadata": {
    "id": "7MOo8dEeTIOc"
   },
   "source": [
    "The provided descriptive statistics unveil a diverse landscape of socioeconomic and health indicators across different clusters of countries. Notably, there is considerable variation in child mortality rates, with Cluster 6 standing out with the highest average rate, suggesting significant challenges in healthcare and child welfare.\n",
    "\n",
    "Conversely, Cluster 3 exhibits the lowest average child mortality rate, indicating better access to healthcare services. Disparities in economic activity are evident through varying levels of exports and imports, with Clusters 3 and 7 displaying higher averages, reflecting stronger global trade integration. Cluster 3 also showcases the highest average health expenditure, indicating a prioritization of healthcare infrastructure. \n",
    "\n",
    "Moreover, Clusters 3 and 7 demonstrate higher average incomes and life expectancies, reflecting greater economic prosperity and better living conditions. However, Cluster 6, with the highest child mortality rate, also exhibits lower life expectancies and incomes, suggesting significant health and economic challenges. These observations underscore the diverse levels of development, economic stability, and healthcare accessibility across the different clusters of countries.\n"
   ]
  },
  {
   "cell_type": "code",
   "execution_count": null,
   "metadata": {},
   "outputs": [],
   "source": []
  }
 ],
 "metadata": {
  "colab": {
   "provenance": []
  },
  "kernelspec": {
   "display_name": "Python 3 (ipykernel)",
   "language": "python",
   "name": "python3"
  },
  "language_info": {
   "codemirror_mode": {
    "name": "ipython",
    "version": 3
   },
   "file_extension": ".py",
   "mimetype": "text/x-python",
   "name": "python",
   "nbconvert_exporter": "python",
   "pygments_lexer": "ipython3",
   "version": "3.11.4"
  }
 },
 "nbformat": 4,
 "nbformat_minor": 1
}

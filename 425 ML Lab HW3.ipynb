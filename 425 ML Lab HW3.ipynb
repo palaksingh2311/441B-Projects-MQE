{
 "cells": [
  {
   "cell_type": "code",
   "execution_count": 1,
   "id": "55621e94",
   "metadata": {
    "tags": []
   },
   "outputs": [],
   "source": [
    "import pandas as pd\n",
    "import matplotlib.pyplot as plt\n",
    "import statsmodels.api as sm\n",
    "from sklearn.model_selection import train_test_split"
   ]
  },
  {
   "cell_type": "markdown",
   "id": "a055ebb7",
   "metadata": {},
   "source": [
    "# 1.) Clean the Apple Data to get a quarterly series of EPS."
   ]
  },
  {
   "cell_type": "code",
   "execution_count": 2,
   "id": "365b253b",
   "metadata": {
    "tags": []
   },
   "outputs": [],
   "source": [
    "y = pd.read_csv(\"/Users/bharatsingh/Downloads/Archive/AAPL_quarterly_financials.csv\")"
   ]
  },
  {
   "cell_type": "code",
   "execution_count": 3,
   "id": "8932850f",
   "metadata": {
    "tags": []
   },
   "outputs": [],
   "source": [
    "y.index = y.name"
   ]
  },
  {
   "cell_type": "code",
   "execution_count": 4,
   "id": "449862e7",
   "metadata": {
    "tags": []
   },
   "outputs": [],
   "source": [
    "y = pd.DataFrame(y.loc[\"BasicEPS\", :]).iloc[2:,:]"
   ]
  },
  {
   "cell_type": "code",
   "execution_count": 5,
   "id": "c39e6c1d",
   "metadata": {
    "tags": []
   },
   "outputs": [],
   "source": [
    "y.index = pd.to_datetime(y.index)"
   ]
  },
  {
   "cell_type": "code",
   "execution_count": 6,
   "id": "15452f18",
   "metadata": {
    "tags": []
   },
   "outputs": [],
   "source": [
    "# CHECK IF NAS ARE NO DIVIDEND PERIOD\n",
    "y = y.sort_index().fillna(0.)"
   ]
  },
  {
   "cell_type": "markdown",
   "id": "f660ca3c",
   "metadata": {},
   "source": [
    "# 2.) Come up with 6 search terms you think could nowcast earnings. (Different than the ones I used) Add in 3 terms that that you think will not Nowcast earnings. Pull in the gtrends data"
   ]
  },
  {
   "cell_type": "code",
   "execution_count": 7,
   "id": "101a8370",
   "metadata": {
    "tags": []
   },
   "outputs": [],
   "source": [
    "from pytrends.request import TrendReq"
   ]
  },
  {
   "cell_type": "code",
   "execution_count": 8,
   "id": "715787dd",
   "metadata": {
    "tags": []
   },
   "outputs": [],
   "source": [
    "# Create pytrends object\n",
    "pytrends = TrendReq(hl='en-US', tz=360)\n",
    "\n",
    "# Set up the keywords and the timeframe\n",
    "keywords = [\"Online Sales Growth\", \"Consumer Spending Trends\", \"Job Openings\", \"Retail Foot Traffic\", \"E-commerce Performance\", \"Unemployment Rate Changes\", \"Funny Cat Videos\", \"Weather in Antarctica\", \"Historical Fashion Trends\"]  \n",
    "start_date = '2004-01-01'\n",
    "end_date = '2024-01-01'\n",
    "\n",
    "# Create an empty DataFrame to store the results\n",
    "df = pd.DataFrame()\n",
    "\n",
    "# Iterate through keywords and fetch data\n",
    "for keyword in keywords:\n",
    "    pytrends.build_payload([keyword], cat=0, timeframe=f'{start_date} {end_date}', geo='', gprop='')\n",
    "    interest_over_time_df = pytrends.interest_over_time()\n",
    "    df[keyword] = interest_over_time_df[keyword]"
   ]
  },
  {
   "cell_type": "code",
   "execution_count": 9,
   "id": "22bbb744",
   "metadata": {
    "tags": []
   },
   "outputs": [],
   "source": [
    "df = df.resample(\"Q\").mean()\n",
    "df = df.fillna(0)\n",
    "X = df \n",
    "X = X[X.index.isin(y.index)]\n",
    "y = y[y.index.isin(X.index)]\n"
   ]
  },
  {
   "cell_type": "code",
   "execution_count": 10,
   "id": "c925f043",
   "metadata": {
    "tags": []
   },
   "outputs": [],
   "source": [
    "# ALIGN DATA\n",
    "temp = pd.concat([y, X],axis = 1).dropna()\n",
    "y = temp[[\"BasicEPS\"]].copy()\n",
    "X = temp.iloc[:,1:].copy()"
   ]
  },
  {
   "cell_type": "markdown",
   "id": "863d55e4",
   "metadata": {},
   "source": [
    "# 3.) Normalize all the X data"
   ]
  },
  {
   "cell_type": "code",
   "execution_count": 11,
   "id": "8325a0f4",
   "metadata": {
    "tags": []
   },
   "outputs": [],
   "source": [
    "from sklearn.preprocessing import StandardScaler"
   ]
  },
  {
   "cell_type": "code",
   "execution_count": 12,
   "id": "bc2504ab",
   "metadata": {
    "tags": []
   },
   "outputs": [],
   "source": [
    "scaler = StandardScaler()"
   ]
  },
  {
   "cell_type": "code",
   "execution_count": 13,
   "id": "4e2562c3-4abe-46d2-96d0-f7dbcad253f5",
   "metadata": {
    "tags": []
   },
   "outputs": [],
   "source": [
    "X_scaled = scaler.fit_transform(X)"
   ]
  },
  {
   "cell_type": "markdown",
   "id": "925f79f5",
   "metadata": {},
   "source": [
    "# 4.) Run a Lasso with lambda of .5. Plot a bar chart."
   ]
  },
  {
   "cell_type": "code",
   "execution_count": 14,
   "id": "d829a004",
   "metadata": {
    "tags": []
   },
   "outputs": [],
   "source": [
    "from sklearn.linear_model import Lasso"
   ]
  },
  {
   "cell_type": "code",
   "execution_count": 15,
   "id": "5e19efe6",
   "metadata": {
    "tags": []
   },
   "outputs": [
    {
     "data": {
      "text/plain": [
       "array([ 0.        , -0.13737798, -0.2087988 ,  0.        ,  0.        ,\n",
       "        0.14897651,  0.        ,  0.02773822, -0.        ])"
      ]
     },
     "execution_count": 15,
     "metadata": {},
     "output_type": "execute_result"
    }
   ],
   "source": [
    "l = Lasso(alpha = 0.05)\n",
    "l.fit(X_scaled, y)\n",
    "Coefficients = l.coef_\n",
    "Coefficients"
   ]
  },
  {
   "cell_type": "code",
   "execution_count": 16,
   "id": "ec86dbde",
   "metadata": {
    "tags": []
   },
   "outputs": [],
   "source": [
    "import matplotlib.pyplot as plt"
   ]
  },
  {
   "cell_type": "code",
   "execution_count": 17,
   "id": "fd87f09b",
   "metadata": {
    "tags": []
   },
   "outputs": [
    {
     "data": {
      "image/png": "[encoded data removed]",
      "text/plain": [
       "<Figure size 1200x500 with 1 Axes>"
      ]
     },
     "metadata": {},
     "output_type": "display_data"
    }
   ],
   "source": [
    "plt.figure(figsize = (12,5))\n",
    "plt.bar(range(len(Coefficients)), Coefficients)\n",
    "plt.xticks(range(len(Coefficients)), X.columns, rotation = 'vertical')\n",
    "plt.axhline(0, color = \"red\")\n",
    "plt.show()"
   ]
  },
  {
   "cell_type": "markdown",
   "id": "96278b34",
   "metadata": {},
   "source": [
    "# 5.) Do these coefficient magnitudes make sense?"
   ]
  },
  {
   "cell_type": "markdown",
   "id": "08ad2201-b6a9-4c1c-8998-6b9009796dbf",
   "metadata": {},
   "source": [
    "#### Features with coefficients set to exactly zero indicate that these features are not contributing to the model. Lasso tends to select a subset of features and set the coefficients of less relevant features to zero.\n",
    "\n",
    "Features with non-zero coefficients have an impact on the model. The sign of the coefficient indicates the direction of the relationship between the feature and the target variable. A positive coefficient suggests a positive correlation, while a negative coefficient suggests a negative correlation. The magnitude of the coefficients indicates the strength of the relationship between each feature and the target variable. \n",
    "\n",
    "The coefficients do make sense. \n",
    "\n",
    "#### Consumer Spending Trends and Job Openings have negative coefficients. This implies that an increase in these two features is associated with a decrease in the predicted target variable. In other words, higher consumer spending trends and job openings are associated with lower values of the target variable.\n",
    "\n",
    "#### Unemployment Rate Changes and Weather in Antarctica have positive coefficients. This implies that an increase in these two features is associated with an increase in the predicted target variable. In other words, better rate and specific weather conditions in Antarctica are associated with higher values of the target variable.\n",
    "\n",
    "#### Online Sales Growth, Funny Cat Videos, Historical Fashion Trends, and Retail Foot Traffic have coefficients set to exactly zero. This suggests that these features have been effectively excluded from the model, and they do not contribute to the prediction of the target variable."
   ]
  },
  {
   "cell_type": "code",
   "execution_count": null,
   "id": "e7560947",
   "metadata": {},
   "outputs": [],
   "source": []
  },
  {
   "cell_type": "markdown",
   "id": "5ae3d8cd",
   "metadata": {},
   "source": []
  },
  {
   "cell_type": "code",
   "execution_count": null,
   "id": "7999aef1",
   "metadata": {},
   "outputs": [],
   "source": []
  },
  {
   "cell_type": "code",
   "execution_count": null,
   "id": "1c61b03e",
   "metadata": {},
   "outputs": [],
   "source": []
  },
  {
   "cell_type": "markdown",
   "id": "d73e6650",
   "metadata": {},
   "source": []
  },
  {
   "cell_type": "code",
   "execution_count": null,
   "id": "c00e08b9",
   "metadata": {},
   "outputs": [],
   "source": []
  },
  {
   "cell_type": "code",
   "execution_count": null,
   "id": "5b55f488",
   "metadata": {
    "tags": []
   },
   "outputs": [],
   "source": []
  },
  {
   "cell_type": "code",
   "execution_count": null,
   "id": "e5e947c1-aae9-46c5-94d3-38805a390abb",
   "metadata": {},
   "outputs": [],
   "source": []
  }
 ],
 "metadata": {
  "kernelspec": {
   "display_name": "Python 3 (ipykernel)",
   "language": "python",
   "name": "python3"
  },
  "language_info": {
   "codemirror_mode": {
    "name": "ipython",
    "version": 3
   },
   "file_extension": ".py",
   "mimetype": "text/x-python",
   "name": "python",
   "nbconvert_exporter": "python",
   "pygments_lexer": "ipython3",
   "version": "3.11.4"
  }
 },
 "nbformat": 4,
 "nbformat_minor": 5
}
